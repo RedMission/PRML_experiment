{
 "cells": [
  {
   "cell_type": "code",
   "execution_count": 1,
   "metadata": {
    "collapsed": true
   },
   "outputs": [],
   "source": [
    "import tensorflow as tf\n",
    "from numpy.random import RandomState\n",
    "import pandas as pd\n",
    "import numpy as np\n",
    "import time\n",
    " \n",
    "#定义神经网络的参数\n",
    "d=3#输入节点个数\n",
    "l=1#输出节点个数\n",
    "q=2*d+1#隐层个数,采用经验公式2d+1\n",
    "train_num=480#训练数据个数\n",
    "test_num=240#测试数据个数\n",
    "eta=0.5#学习率\n",
    "error=0.002#精度\n",
    " \n",
    "#初始化权值和阈值\n",
    "w1= tf.Variable(tf.random_normal([d, q], stddev=1, seed=1))#seed设定随机种子，保证每次初始化相同数据\n",
    "b1=tf.Variable(tf.constant(0.0,shape=[q]))\n",
    "w2= tf.Variable(tf.random_normal([q, l], stddev=1, seed=1))\n",
    "b2=tf.Variable(tf.constant(0.0,shape=[l]))\n",
    " \n",
    "#输入占位\n",
    "x = tf.placeholder(tf.float32, shape=(None, d))\n",
    "y_= tf.placeholder(tf.float32, shape=(None, l))\n",
    " \n",
    "#构建图：前向传播\n",
    "a=tf.nn.sigmoid(tf.matmul(x,w1)+b1)#sigmoid激活函数\n",
    "y=tf.nn.sigmoid(tf.matmul(a,w2)+b2)\n",
    "mse = tf.reduce_mean(tf.square(y_ -  y))#损失函数采用均方误差\n",
    "train_step = tf.train.AdamOptimizer(eta).minimize(mse)#Adam算法\n",
    " "
   ]
  },
  {
   "cell_type": "code",
   "execution_count": 2,
   "metadata": {},
   "outputs": [
    {
     "name": "stdout",
     "output_type": "stream",
     "text": [
      "第 10 次训练后,训练集损失函数为：0.0378929\n",
      "第 20 次训练后,训练集损失函数为：0.0401947\n",
      "第 30 次训练后,训练集损失函数为：0.030946\n",
      "第 40 次训练后,训练集损失函数为：0.0165325\n",
      "第 50 次训练后,训练集损失函数为：0.00616452\n",
      "第 60 次训练后,训练集损失函数为：0.00285201\n",
      "第 70 次训练后,训练集损失函数为：0.00215333\n",
      "第 80 次训练后,训练集损失函数为：0.00214208\n",
      "第 90 次训练后,训练集损失函数为：0.00199366\n",
      "总训练次数： 90\n",
      "运行耗时(s)： 0.6929886764216886\n",
      "测试集均方误差为： 0.901889\n",
      "[18.3,17.4,16.7]输入下,预测气温为： [[ 15.77010155]]\n"
     ]
    }
   ],
   "source": [
    "#读取气温数据\n",
    "dataset = pd.read_csv('tem.csv', delimiter=\",\")\n",
    "dataset=np.array(dataset)\n",
    "m,n=np.shape(dataset)\n",
    "totalX=np.zeros((m-d,d))\n",
    "totalY=np.zeros((m-d,l))\n",
    "for i in range(m-d):#分组：前三个值输入，第四个值输出\n",
    "    totalX[i][0]=dataset[i][0]\n",
    "    totalX[i][1]=dataset[i+1][0]\n",
    "    totalX[i][2]=dataset[i+2][0]\n",
    "    totalY[i][0]=dataset[i+3][0]\n",
    "    \n",
    "#归一化数据\n",
    "Normal_totalX=np.zeros((m-d,d))\n",
    "Normal_totalY=np.zeros((m-d,l))\n",
    "nummin=np.min(dataset)\n",
    "nummax=np.max(dataset)\n",
    "dif=nummax-nummin\n",
    "for i in range(m-d):\n",
    "    for j in range(d):\n",
    "        Normal_totalX[i][j]=(totalX[i][j]-nummin)/dif\n",
    "    Normal_totalY[i][0]=(totalY[i][0]-nummin)/dif\n",
    "\n",
    "#截取训练数据\n",
    "X=Normal_totalX[:train_num-d,:]\n",
    "Y=Normal_totalY[:train_num-d,:]\n",
    "testX=Normal_totalX[train_num:,:]\n",
    "testY=totalY[train_num:,:]\n",
    " \n",
    "start = time.clock()\n",
    "\n",
    "#创建会话来执行图\n",
    "with tf.Session() as sess:\n",
    "    init_op = tf.global_variables_initializer()#初始化节点\n",
    "    sess.run(init_op)\n",
    " \n",
    "    STEPS=0\n",
    "    while True:\n",
    "        sess.run(train_step, feed_dict={x: X, y_: Y})\n",
    "        STEPS+=1\n",
    "        train_mse= sess.run(mse, feed_dict={x: X, y_: Y})\n",
    "        if STEPS % 10 == 0:#每训练100次，输出损失函数\n",
    "            print(\"第 %d 次训练后,训练集损失函数为：%g\" % (STEPS, train_mse))\n",
    "        if train_mse<error:\n",
    "            break\n",
    "    print(\"总训练次数：\",STEPS)\n",
    "    end = time.clock()\n",
    "    print(\"运行耗时(s)：\",end-start)\n",
    "\n",
    "    #测试\n",
    "    Normal_y= sess.run(y, feed_dict={x: testX})#求得测试集下的y计算值\n",
    "    DeNormal_y=Normal_y*dif+nummin#将y反归一化\n",
    "    test_mse= sess.run(mse, feed_dict={y: DeNormal_y, y_: testY})#计算均方误差\n",
    "    print(\"测试集均方误差为：\",test_mse)\n",
    "\n",
    "    #预测\n",
    "    XX=tf.constant([[18.3,17.4,16.7]])\n",
    "    XX=(XX-nummin)/dif#归一化\n",
    "    a=tf.nn.sigmoid(tf.matmul(XX,w1)+b1)\n",
    "    y=tf.nn.sigmoid(tf.matmul(a,w2)+b2)\n",
    "    y=y*dif+nummin#反归一化\n",
    "    print(\"[18.3,17.4,16.7]输入下,预测气温为：\",sess.run(y))\n"
   ]
  },
  {
   "cell_type": "code",
   "execution_count": null,
   "metadata": {
    "collapsed": true
   },
   "outputs": [],
   "source": []
  }
 ],
 "metadata": {
  "kernelspec": {
   "display_name": "Python 3",
   "language": "python",
   "name": "python3"
  },
  "language_info": {
   "codemirror_mode": {
    "name": "ipython",
    "version": 3
   },
   "file_extension": ".py",
   "mimetype": "text/x-python",
   "name": "python",
   "nbconvert_exporter": "python",
   "pygments_lexer": "ipython3",
   "version": "3.5.4"
  }
 },
 "nbformat": 4,
 "nbformat_minor": 2
}
